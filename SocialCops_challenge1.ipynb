{
  "nbformat": 4,
  "nbformat_minor": 0,
  "metadata": {
    "colab": {
      "name": "SocialCops_challenge1.ipynb",
      "version": "0.3.2",
      "provenance": [],
      "collapsed_sections": []
    },
    "kernelspec": {
      "name": "python3",
      "display_name": "Python 3"
    }
  },
  "cells": [
    {
      "metadata": {
        "id": "9HxcpKskX8tQ",
        "colab_type": "code",
        "colab": {
          "base_uri": "https://localhost:8080/",
          "height": 131
        },
        "outputId": "b2044b8b-e010-4809-a6ff-c59318f547d5"
      },
      "cell_type": "code",
      "source": [
        "from google.colab import drive\n",
        "drive.mount('/content/drive')"
      ],
      "execution_count": 2,
      "outputs": [
        {
          "output_type": "stream",
          "text": [
            "Go to this URL in a browser: https://accounts.google.com/o/oauth2/auth?client_id=947318989803-6bn6qk8qdgf4n4g3pfee6491hc0brc4i.apps.googleusercontent.com&redirect_uri=urn%3Aietf%3Awg%3Aoauth%3A2.0%3Aoob&scope=email%20https%3A%2F%2Fwww.googleapis.com%2Fauth%2Fdocs.test%20https%3A%2F%2Fwww.googleapis.com%2Fauth%2Fdrive%20https%3A%2F%2Fwww.googleapis.com%2Fauth%2Fdrive.photos.readonly%20https%3A%2F%2Fwww.googleapis.com%2Fauth%2Fpeopleapi.readonly&response_type=code\n",
            "\n",
            "Enter your authorization code:\n",
            "··········\n",
            "Mounted at /content/drive\n"
          ],
          "name": "stdout"
        }
      ]
    },
    {
      "metadata": {
        "id": "KBcoZJN6fhJP",
        "colab_type": "text"
      },
      "cell_type": "markdown",
      "source": [
        "Initial Data Preprocessing"
      ]
    },
    {
      "metadata": {
        "id": "2LJ9cu1RYjG_",
        "colab_type": "code",
        "colab": {},
        "cellView": "code"
      },
      "cell_type": "code",
      "source": [
        "import pandas as pd\n",
        "import numpy as np\n",
        "import matplotlib.pyplot as plt\n",
        "import seaborn as sns\n",
        "import statsmodels.tsa.stattools as tsa\n",
        "from statsmodels.graphics.tsaplots import plot_acf\n",
        "from statsmodels.tsa.stattools import acf\n",
        "from statsmodels.tsa.seasonal import seasonal_decompose\n",
        "\n",
        "df1=pd.read_csv('drive/My Drive/CMO_MSP_Mandi.csv')\n",
        "df2=pd.read_csv('drive/My Drive/Monthly_data_cmo.csv')\n",
        "\n",
        "df1['commodity']=df1['commodity'].str.lower()\n",
        "df1['Type']=df1['Type'].str.lower()\n",
        "df1 = df1[df1['year'] != 2012]\n",
        "df1 = df1[df1['year'] != 2013]\n",
        "df1['year']=pd.to_datetime(df1['year'],format= '%Y')\n",
        "\n",
        "df2['is_duplicate']=df2.duplicated()\n",
        "df2['APMC']=df2['APMC'].str.lower()\n",
        "df2['Commodity']=df2['Commodity'].str.lower()\n"
      ],
      "execution_count": 0,
      "outputs": []
    },
    {
      "metadata": {
        "id": "Hz_5iYyIfaPR",
        "colab_type": "text"
      },
      "cell_type": "markdown",
      "source": [
        "Checking of NULL values in the Monthly_data_cmo.csv"
      ]
    },
    {
      "metadata": {
        "id": "fOe_V_-MYSE4",
        "colab_type": "code",
        "colab": {}
      },
      "cell_type": "code",
      "source": [
        "df2.isna().sum()"
      ],
      "execution_count": 0,
      "outputs": []
    },
    {
      "metadata": {
        "id": "Q-pAUwVUgElr",
        "colab_type": "text"
      },
      "cell_type": "markdown",
      "source": [
        "Redundant columns were dropped"
      ]
    },
    {
      "metadata": {
        "id": "xxG11vJUf-q2",
        "colab_type": "text"
      },
      "cell_type": "markdown",
      "source": [
        ""
      ]
    },
    {
      "metadata": {
        "id": "2tyLmeJPZTcr",
        "colab_type": "code",
        "colab": {}
      },
      "cell_type": "code",
      "source": [
        "df2=df2.drop((['is_duplicate','state_name']),axis=1)"
      ],
      "execution_count": 0,
      "outputs": []
    },
    {
      "metadata": {
        "id": "UpLG2ER0gNIO",
        "colab_type": "text"
      },
      "cell_type": "markdown",
      "source": [
        "'date' column is converted to pandas timestamp"
      ]
    },
    {
      "metadata": {
        "id": "7CPK7EBvUpoH",
        "colab_type": "code",
        "colab": {}
      },
      "cell_type": "code",
      "source": [
        "df2['date']=pd.to_datetime(df2['date'])\n",
        "df2=df2.sort_values('date')"
      ],
      "execution_count": 0,
      "outputs": []
    },
    {
      "metadata": {
        "id": "6Pgj64RKB4a_",
        "colab_type": "code",
        "colab": {}
      },
      "cell_type": "code",
      "source": [
        "#x=df2.loc[(df2['Commodity']=='orange')]\n",
        "#x['min_price'].describe()\n",
        "#x.boxplot(column='min_price',by=['Commodity','Year'])\n"
      ],
      "execution_count": 0,
      "outputs": []
    },
    {
      "metadata": {
        "id": "tpEMb-s_gd_Z",
        "colab_type": "text"
      },
      "cell_type": "markdown",
      "source": [
        "**Task-1 : Test and filter outliers.**"
      ]
    },
    {
      "metadata": {
        "id": "mH9qjywGT8GC",
        "colab_type": "code",
        "colab": {}
      },
      "cell_type": "code",
      "source": [
        "for x in list(df2[['min_price','max_price','modal_price']]):\n",
        "  q1=df2.groupby(['Commodity','Year'])[x].quantile(0.25)\n",
        "  q3=df2.groupby(['Commodity','Year'])[x].quantile(0.75)\n",
        "  iqr=q3-q1\n",
        "  lower_bound=q1-(1.5*iqr)\n",
        "  upper_bound=q3+(1.5*iqr) \n",
        "  \n",
        "  lim_dict  = {}# (comm,year):(lower,upper)\n",
        "  for commo in df2['Commodity'].unique():\n",
        "    for year_ in df2['Year'].unique():\n",
        "      try:\n",
        "        temp = upper_bound.iloc[upper_bound.index.get_level_values('Year') == year_]\n",
        "        up_b= temp.iloc[temp.index.get_level_values('Commodity') == commo].values[0]\n",
        "\n",
        "        temp = lower_bound.iloc[lower_bound.index.get_level_values('Year') == year_]\n",
        "        lw_b= temp.iloc[temp.index.get_level_values('Commodity') == commo].values[0]\n",
        "\n",
        "        lim_dict[tuple([commo,year_])] = tuple([lw_b,up_b])\n",
        "      except:\n",
        "        pass\n",
        "  def check_outlier(x):\n",
        "    lw_b,up_b = lim_dict[(x['Commodity'],x['Year'])]\n",
        "    if x['modal_price']>=lw_b and x['modal_price']<=up_b:\n",
        "      return False\n",
        "    return True\n",
        "  df2['outlier_det'] = df2.apply(check_outlier,axis=1)\n",
        "  df2=df2[df2['outlier_det']==False]\n",
        "  #print(df2[df2['outlier_det']==True])"
      ],
      "execution_count": 0,
      "outputs": []
    },
    {
      "metadata": {
        "id": "pjrKmBo8gjj3",
        "colab_type": "text"
      },
      "cell_type": "markdown",
      "source": [
        "Output csv without outliers"
      ]
    },
    {
      "metadata": {
        "id": "j9q-tYIWY0Hg",
        "colab_type": "code",
        "colab": {}
      },
      "cell_type": "code",
      "source": [
        "df2.to_csv(\"Filtered_Outlier_data.csv\")\n",
        "!cp Outlier_data.csv drive/My\\ Drive/"
      ],
      "execution_count": 0,
      "outputs": []
    },
    {
      "metadata": {
        "id": "noSNoRs4e-VC",
        "colab_type": "code",
        "colab": {}
      },
      "cell_type": "code",
      "source": [
        "#x=df2.loc[(df2['Commodity']=='orange')]\n",
        "#x['min_price'].describe()\n",
        "#x.boxplot(column='min_price',by=['Commodity','Year'])"
      ],
      "execution_count": 0,
      "outputs": []
    },
    {
      "metadata": {
        "id": "fobbSLrZQIV9",
        "colab_type": "code",
        "colab": {}
      },
      "cell_type": "code",
      "source": [
        "df2['APMC_commodity']=df2['APMC']+\"+\"+df2['Commodity']\n",
        "new_df2=df2[[\"APMC\",\"Commodity\",\"modal_price\",\"Year\",\"APMC_commodity\"]].groupby([\"APMC\",\"Commodity\",\"Year\",\"APMC_commodity\"],as_index=False).count().reset_index(drop=True)\n",
        "new_df2 = new_df2[new_df2['modal_price']==12].reset_index(drop=True)\n",
        "#new_df2.sort_values('Year')\n",
        "#len(new_df2['APMC_commodity'].unique().tolist()) "
      ],
      "execution_count": 0,
      "outputs": []
    },
    {
      "metadata": {
        "id": "lxqYVaz841m9",
        "colab_type": "code",
        "colab": {
          "base_uri": "https://localhost:8080/",
          "height": 237
        },
        "outputId": "8ab45f98-d229-4ba5-bb61-2acff89ac33a"
      },
      "cell_type": "code",
      "source": [
        "df2_seasonal=new_df2['APMC_commodity'].unique().tolist()\n",
        "df2_seasonal=df2[df2['APMC_commodity'].isin(df2_seasonal)].reset_index(drop=True)\n",
        "df2_seasonal=df2_seasonal.drop((['APMC','Commodity','Year','Month','arrivals_in_qtl','min_price','max_price','district_name','outlier_det']),axis=1)\n",
        "df2_seasonal=df2_seasonal.set_index('date')"
      ],
      "execution_count": 56,
      "outputs": [
        {
          "output_type": "execute_result",
          "data": {
            "text/html": [
              "<div>\n",
              "<style scoped>\n",
              "    .dataframe tbody tr th:only-of-type {\n",
              "        vertical-align: middle;\n",
              "    }\n",
              "\n",
              "    .dataframe tbody tr th {\n",
              "        vertical-align: top;\n",
              "    }\n",
              "\n",
              "    .dataframe thead th {\n",
              "        text-align: right;\n",
              "    }\n",
              "</style>\n",
              "<table border=\"1\" class=\"dataframe\">\n",
              "  <thead>\n",
              "    <tr style=\"text-align: right;\">\n",
              "      <th></th>\n",
              "      <th>modal_price</th>\n",
              "      <th>APMC_commodity</th>\n",
              "    </tr>\n",
              "    <tr>\n",
              "      <th>date</th>\n",
              "      <th></th>\n",
              "      <th></th>\n",
              "    </tr>\n",
              "  </thead>\n",
              "  <tbody>\n",
              "    <tr>\n",
              "      <th>2014-09-01</th>\n",
              "      <td>1981</td>\n",
              "      <td>kurdwadi+sorgum(jawar)</td>\n",
              "    </tr>\n",
              "    <tr>\n",
              "      <th>2014-09-01</th>\n",
              "      <td>2331</td>\n",
              "      <td>satara+potato</td>\n",
              "    </tr>\n",
              "    <tr>\n",
              "      <th>2014-09-01</th>\n",
              "      <td>4125</td>\n",
              "      <td>satara+ginger (fresh)</td>\n",
              "    </tr>\n",
              "    <tr>\n",
              "      <th>2014-09-01</th>\n",
              "      <td>1192</td>\n",
              "      <td>satara+bottle gourd</td>\n",
              "    </tr>\n",
              "    <tr>\n",
              "      <th>2014-09-01</th>\n",
              "      <td>1318</td>\n",
              "      <td>shahapur+ghosali(bhaji)</td>\n",
              "    </tr>\n",
              "  </tbody>\n",
              "</table>\n",
              "</div>"
            ],
            "text/plain": [
              "            modal_price           APMC_commodity\n",
              "date                                            \n",
              "2014-09-01         1981   kurdwadi+sorgum(jawar)\n",
              "2014-09-01         2331            satara+potato\n",
              "2014-09-01         4125    satara+ginger (fresh)\n",
              "2014-09-01         1192      satara+bottle gourd\n",
              "2014-09-01         1318  shahapur+ghosali(bhaji)"
            ]
          },
          "metadata": {
            "tags": []
          },
          "execution_count": 56
        }
      ]
    },
    {
      "metadata": {
        "id": "zeYO3fj01ame",
        "colab_type": "code",
        "colab": {
          "base_uri": "https://localhost:8080/",
          "height": 112
        },
        "outputId": "36173dc7-0432-4ec6-cc1c-c03195b0ede5"
      },
      "cell_type": "code",
      "source": [
        "stationary_list=[]\n",
        "#stat_list=[]\n",
        "def detect_stationary(col):\n",
        "  return tsa.adfuller(col['modal_price'],autolag='AIC')[1]\n",
        "stationary_list=df2_seasonal.groupby('APMC_commodity').apply(detect_stationary)\n",
        "#stationary_list[stationary_list['APMC_commodity']=='akluj+brinjal']\n",
        "stationary_list['APMC_commodity']=stationary_list.index\n",
        "stationary_list=stationary_list.reset_index()\n",
        "stationary_list.columns=['APMC_commodity','p-value']\n",
        "stationary_list=stationary_list.fillna(0)\n",
        "stationary_list.isnull().sum()\n",
        "last_row = len(stationary_list)\n",
        "last_row = last_row-1\n",
        "stationary_list = stationary_list.drop(stationary_list.index[last_row])\n",
        "stationary_list.tail()\n",
        "stationary_list['p-value']=stationary_list['p-value'].astype(str)\n",
        "stationary_list['p-value']=stationary_list['p-value'].astype(float)"
      ],
      "execution_count": 57,
      "outputs": [
        {
          "output_type": "stream",
          "text": [
            "/usr/local/lib/python3.6/dist-packages/statsmodels/regression/linear_model.py:1353: RuntimeWarning: divide by zero encountered in double_scalars\n",
            "  return np.dot(wresid, wresid) / self.df_resid\n",
            "/usr/local/lib/python3.6/dist-packages/statsmodels/base/model.py:1036: RuntimeWarning: invalid value encountered in true_divide\n",
            "  return self.params / self.bse\n"
          ],
          "name": "stderr"
        }
      ]
    },
    {
      "metadata": {
        "id": "rt3HFHSLkkjj",
        "colab_type": "code",
        "colab": {}
      },
      "cell_type": "code",
      "source": [
        "stationary_list['p-value']=stationary_list['p-value']>0.05\n",
        "stationary_list=stationary_list[stationary_list['p-value']==True]"
      ],
      "execution_count": 0,
      "outputs": []
    },
    {
      "metadata": {
        "id": "vYxJ1juJ1jGR",
        "colab_type": "code",
        "colab": {
          "base_uri": "https://localhost:8080/",
          "height": 237
        },
        "outputId": "b933c7f4-5eac-45b9-a08f-4ff49ca18af3"
      },
      "cell_type": "code",
      "source": [
        "df2_stat=stationary_list['APMC_commodity'].unique().tolist()\n",
        "df2_seasonal=df2_seasonal[df2_seasonal['APMC_commodity'].isin(df2_stat)]\n",
        "df2_seasonal.head()"
      ],
      "execution_count": 59,
      "outputs": [
        {
          "output_type": "execute_result",
          "data": {
            "text/html": [
              "<div>\n",
              "<style scoped>\n",
              "    .dataframe tbody tr th:only-of-type {\n",
              "        vertical-align: middle;\n",
              "    }\n",
              "\n",
              "    .dataframe tbody tr th {\n",
              "        vertical-align: top;\n",
              "    }\n",
              "\n",
              "    .dataframe thead th {\n",
              "        text-align: right;\n",
              "    }\n",
              "</style>\n",
              "<table border=\"1\" class=\"dataframe\">\n",
              "  <thead>\n",
              "    <tr style=\"text-align: right;\">\n",
              "      <th></th>\n",
              "      <th>modal_price</th>\n",
              "      <th>APMC_commodity</th>\n",
              "    </tr>\n",
              "    <tr>\n",
              "      <th>date</th>\n",
              "      <th></th>\n",
              "      <th></th>\n",
              "    </tr>\n",
              "  </thead>\n",
              "  <tbody>\n",
              "    <tr>\n",
              "      <th>2014-09-01</th>\n",
              "      <td>1981</td>\n",
              "      <td>kurdwadi+sorgum(jawar)</td>\n",
              "    </tr>\n",
              "    <tr>\n",
              "      <th>2014-09-01</th>\n",
              "      <td>2331</td>\n",
              "      <td>satara+potato</td>\n",
              "    </tr>\n",
              "    <tr>\n",
              "      <th>2014-09-01</th>\n",
              "      <td>4125</td>\n",
              "      <td>satara+ginger (fresh)</td>\n",
              "    </tr>\n",
              "    <tr>\n",
              "      <th>2014-09-01</th>\n",
              "      <td>1318</td>\n",
              "      <td>shahapur+ghosali(bhaji)</td>\n",
              "    </tr>\n",
              "    <tr>\n",
              "      <th>2014-09-01</th>\n",
              "      <td>565</td>\n",
              "      <td>satara+cabbage</td>\n",
              "    </tr>\n",
              "  </tbody>\n",
              "</table>\n",
              "</div>"
            ],
            "text/plain": [
              "            modal_price           APMC_commodity\n",
              "date                                            \n",
              "2014-09-01         1981   kurdwadi+sorgum(jawar)\n",
              "2014-09-01         2331            satara+potato\n",
              "2014-09-01         4125    satara+ginger (fresh)\n",
              "2014-09-01         1318  shahapur+ghosali(bhaji)\n",
              "2014-09-01          565           satara+cabbage"
            ]
          },
          "metadata": {
            "tags": []
          },
          "execution_count": 59
        }
      ]
    },
    {
      "metadata": {
        "id": "NRO9JYtNFfOI",
        "colab_type": "code",
        "colab": {}
      },
      "cell_type": "code",
      "source": [
        "\n",
        "#df2_seasonal.head()\n",
        "#df2_seasonal.isna().sum()\n",
        "#distinct=df2_seasonal[df2_seasonal['APMC_commodity']=='kurdwadi+sorgum(jawar)']\n",
        "#distinct\n",
        "#df2_seasonal.head()"
      ],
      "execution_count": 0,
      "outputs": []
    },
    {
      "metadata": {
        "id": "_EVowRgB5k10",
        "colab_type": "code",
        "colab": {}
      },
      "cell_type": "code",
      "source": [
        "apmc_comm=list(df2_seasonal['APMC_commodity'].unique())\n",
        "seasonality_type=[]\n",
        "\n",
        "def detect_seasonality_type(distinct):\n",
        "  distinct=distinct.drop((['APMC_commodity']),axis=1)\n",
        "  \n",
        "  distinct = distinct.resample('MS').mean()\n",
        "  distinct = distinct.fillna(int(distinct['modal_price'].mean()))\n",
        "    \n",
        "  \n",
        "  \n",
        "  decompose_add=seasonal_decompose(distinct,model='additive',freq=6)\n",
        "  decompose_multiply=seasonal_decompose(distinct,model='multiplicative',freq=6)\n",
        "  \n",
        "  acf_add=sum(np.asarray(acf(decompose_add.resid,missing='drop')*2))\n",
        "  acf_multiply=sum(np.asarray(acf(decompose_multiply.resid,missing='drop')*2))\n",
        "  #return acf_add\n",
        "  \n",
        "  if acf_add>acf_multiply:\n",
        "   return \"multiplicative\"\n",
        "  else:\n",
        "   return \"additive\"\n",
        "  \n",
        "for c in apmc_comm:\n",
        "   distinct=df2_seasonal[df2_seasonal['APMC_commodity']==c]\n",
        "   seasonality_type.append((c,detect_seasonality_type(distinct)))    "
      ],
      "execution_count": 0,
      "outputs": []
    },
    {
      "metadata": {
        "id": "ndwde5W8EyQd",
        "colab_type": "code",
        "colab": {}
      },
      "cell_type": "code",
      "source": [
        "final_seasonality_type=pd.DataFrame(seasonality_type)\n",
        "final_seasonality_type.columns=['APMC_commodity','seasonality_type']\n",
        "final_seasonality_type.head()\n",
        "final_seasonality_type.to_csv('Seasonality_type_data.csv')\n",
        "!cp Seasonality_type_data.csv drive/My\\ Drive/\n",
        "#distinct.head()"
      ],
      "execution_count": 0,
      "outputs": []
    },
    {
      "metadata": {
        "id": "DGf6DS74kowV",
        "colab_type": "code",
        "colab": {
          "base_uri": "https://localhost:8080/",
          "height": 237
        },
        "outputId": "72d472ef-68be-4583-ecb3-1e6557e43473"
      },
      "cell_type": "code",
      "source": [
        "deseasonalize_data=pd.DataFrame()\n",
        "\n",
        "def deseasonalize_price(de_distinct,types):\n",
        "  de_distinct1 = de_distinct.resample('MS').mean()\n",
        "  de_distinct1 = de_distinct1.fillna(int(de_distinct['modal_price'].mean()))\n",
        "  if 'additive' in types:\n",
        "    de_decompose_add=seasonal_decompose(de_distinct1,model='additive',freq=6)\n",
        "    de_distinct1['seasonal_price']=de_decompose_add.seasonal.values\n",
        "    de_distinct1['deseasonalized_price']=de_distinct1['modal_price']-de_distinct1['seasonal_price']\n",
        "  else:\n",
        "    de_decompose_multiply=seasonal_decompose(de_distinct1,model='multiplicative',freq=6)\n",
        "    de_distinct1['seasonal_price']=de_decompose_multiply.seasonal.values\n",
        "    de_distinct1['deseasonalized_price']=de_distinct1['modal_price']/de_distinct1['seasonal_price']\n",
        "    #print(de_distinct['deseasonalized_price'])\n",
        "  return de_distinct1\n",
        "\n",
        "for c1 in apmc_comm:\n",
        "  de_distinct=df2_seasonal[df2_seasonal['APMC_commodity']==c1]\n",
        "  types=final_seasonality_type.loc[final_seasonality_type['APMC_commodity']==c1,'seasonality_type'].reset_index(drop=True)[0]\n",
        "  if(types=='additive'):\n",
        "    de_data=deseasonalize_price(de_distinct,'additive')\n",
        "  else:\n",
        "    de_data=deseasonalize_price(de_distinct,'multiplicative')\n",
        "  de_data['APMC_commodity']=c1  \n",
        "  deseasonalize_data=pd.concat([deseasonalize_data,de_data])\n",
        "  \n",
        "deseasonalize_data = deseasonalize_data.dropna(how='any',axis=0)\n",
        "deseasonalize_data.head()\n"
      ],
      "execution_count": 62,
      "outputs": [
        {
          "output_type": "execute_result",
          "data": {
            "text/html": [
              "<div>\n",
              "<style scoped>\n",
              "    .dataframe tbody tr th:only-of-type {\n",
              "        vertical-align: middle;\n",
              "    }\n",
              "\n",
              "    .dataframe tbody tr th {\n",
              "        vertical-align: top;\n",
              "    }\n",
              "\n",
              "    .dataframe thead th {\n",
              "        text-align: right;\n",
              "    }\n",
              "</style>\n",
              "<table border=\"1\" class=\"dataframe\">\n",
              "  <thead>\n",
              "    <tr style=\"text-align: right;\">\n",
              "      <th></th>\n",
              "      <th>modal_price</th>\n",
              "      <th>seasonal_price</th>\n",
              "      <th>deseasonalized_price</th>\n",
              "      <th>APMC_commodity</th>\n",
              "    </tr>\n",
              "    <tr>\n",
              "      <th>date</th>\n",
              "      <th></th>\n",
              "      <th></th>\n",
              "      <th></th>\n",
              "      <th></th>\n",
              "    </tr>\n",
              "  </thead>\n",
              "  <tbody>\n",
              "    <tr>\n",
              "      <th>2014-09-01</th>\n",
              "      <td>1981.0</td>\n",
              "      <td>20.400463</td>\n",
              "      <td>1960.599537</td>\n",
              "      <td>kurdwadi+sorgum(jawar)</td>\n",
              "    </tr>\n",
              "    <tr>\n",
              "      <th>2014-10-01</th>\n",
              "      <td>1779.0</td>\n",
              "      <td>-85.460648</td>\n",
              "      <td>1864.460648</td>\n",
              "      <td>kurdwadi+sorgum(jawar)</td>\n",
              "    </tr>\n",
              "    <tr>\n",
              "      <th>2014-11-01</th>\n",
              "      <td>1973.0</td>\n",
              "      <td>58.733796</td>\n",
              "      <td>1914.266204</td>\n",
              "      <td>kurdwadi+sorgum(jawar)</td>\n",
              "    </tr>\n",
              "    <tr>\n",
              "      <th>2014-12-01</th>\n",
              "      <td>1861.0</td>\n",
              "      <td>36.796296</td>\n",
              "      <td>1824.203704</td>\n",
              "      <td>kurdwadi+sorgum(jawar)</td>\n",
              "    </tr>\n",
              "    <tr>\n",
              "      <th>2015-01-01</th>\n",
              "      <td>1840.0</td>\n",
              "      <td>-41.703704</td>\n",
              "      <td>1881.703704</td>\n",
              "      <td>kurdwadi+sorgum(jawar)</td>\n",
              "    </tr>\n",
              "  </tbody>\n",
              "</table>\n",
              "</div>"
            ],
            "text/plain": [
              "            modal_price  seasonal_price  deseasonalized_price  \\\n",
              "date                                                            \n",
              "2014-09-01       1981.0       20.400463           1960.599537   \n",
              "2014-10-01       1779.0      -85.460648           1864.460648   \n",
              "2014-11-01       1973.0       58.733796           1914.266204   \n",
              "2014-12-01       1861.0       36.796296           1824.203704   \n",
              "2015-01-01       1840.0      -41.703704           1881.703704   \n",
              "\n",
              "                    APMC_commodity  \n",
              "date                                \n",
              "2014-09-01  kurdwadi+sorgum(jawar)  \n",
              "2014-10-01  kurdwadi+sorgum(jawar)  \n",
              "2014-11-01  kurdwadi+sorgum(jawar)  \n",
              "2014-12-01  kurdwadi+sorgum(jawar)  \n",
              "2015-01-01  kurdwadi+sorgum(jawar)  "
            ]
          },
          "metadata": {
            "tags": []
          },
          "execution_count": 62
        }
      ]
    },
    {
      "metadata": {
        "id": "wjqXRoewE7Wt",
        "colab_type": "code",
        "colab": {}
      },
      "cell_type": "code",
      "source": [
        "deseasonalize_data.to_csv('deseasonalize_price_data.csv')\n",
        "!cp deseasonalize_price_data.csv drive/My\\ Drive/"
      ],
      "execution_count": 0,
      "outputs": []
    },
    {
      "metadata": {
        "id": "o2_zXkADBdFo",
        "colab_type": "code",
        "colab": {
          "base_uri": "https://localhost:8080/",
          "height": 237
        },
        "outputId": "5776d579-9e38-4f40-d50a-23ff908808f1"
      },
      "cell_type": "code",
      "source": [
        "deseasonalize_data.head()"
      ],
      "execution_count": 64,
      "outputs": [
        {
          "output_type": "execute_result",
          "data": {
            "text/html": [
              "<div>\n",
              "<style scoped>\n",
              "    .dataframe tbody tr th:only-of-type {\n",
              "        vertical-align: middle;\n",
              "    }\n",
              "\n",
              "    .dataframe tbody tr th {\n",
              "        vertical-align: top;\n",
              "    }\n",
              "\n",
              "    .dataframe thead th {\n",
              "        text-align: right;\n",
              "    }\n",
              "</style>\n",
              "<table border=\"1\" class=\"dataframe\">\n",
              "  <thead>\n",
              "    <tr style=\"text-align: right;\">\n",
              "      <th></th>\n",
              "      <th>modal_price</th>\n",
              "      <th>seasonal_price</th>\n",
              "      <th>deseasonalized_price</th>\n",
              "      <th>APMC_commodity</th>\n",
              "    </tr>\n",
              "    <tr>\n",
              "      <th>date</th>\n",
              "      <th></th>\n",
              "      <th></th>\n",
              "      <th></th>\n",
              "      <th></th>\n",
              "    </tr>\n",
              "  </thead>\n",
              "  <tbody>\n",
              "    <tr>\n",
              "      <th>2014-09-01</th>\n",
              "      <td>1981.0</td>\n",
              "      <td>20.400463</td>\n",
              "      <td>1960.599537</td>\n",
              "      <td>kurdwadi+sorgum(jawar)</td>\n",
              "    </tr>\n",
              "    <tr>\n",
              "      <th>2014-10-01</th>\n",
              "      <td>1779.0</td>\n",
              "      <td>-85.460648</td>\n",
              "      <td>1864.460648</td>\n",
              "      <td>kurdwadi+sorgum(jawar)</td>\n",
              "    </tr>\n",
              "    <tr>\n",
              "      <th>2014-11-01</th>\n",
              "      <td>1973.0</td>\n",
              "      <td>58.733796</td>\n",
              "      <td>1914.266204</td>\n",
              "      <td>kurdwadi+sorgum(jawar)</td>\n",
              "    </tr>\n",
              "    <tr>\n",
              "      <th>2014-12-01</th>\n",
              "      <td>1861.0</td>\n",
              "      <td>36.796296</td>\n",
              "      <td>1824.203704</td>\n",
              "      <td>kurdwadi+sorgum(jawar)</td>\n",
              "    </tr>\n",
              "    <tr>\n",
              "      <th>2015-01-01</th>\n",
              "      <td>1840.0</td>\n",
              "      <td>-41.703704</td>\n",
              "      <td>1881.703704</td>\n",
              "      <td>kurdwadi+sorgum(jawar)</td>\n",
              "    </tr>\n",
              "  </tbody>\n",
              "</table>\n",
              "</div>"
            ],
            "text/plain": [
              "            modal_price  seasonal_price  deseasonalized_price  \\\n",
              "date                                                            \n",
              "2014-09-01       1981.0       20.400463           1960.599537   \n",
              "2014-10-01       1779.0      -85.460648           1864.460648   \n",
              "2014-11-01       1973.0       58.733796           1914.266204   \n",
              "2014-12-01       1861.0       36.796296           1824.203704   \n",
              "2015-01-01       1840.0      -41.703704           1881.703704   \n",
              "\n",
              "                    APMC_commodity  \n",
              "date                                \n",
              "2014-09-01  kurdwadi+sorgum(jawar)  \n",
              "2014-10-01  kurdwadi+sorgum(jawar)  \n",
              "2014-11-01  kurdwadi+sorgum(jawar)  \n",
              "2014-12-01  kurdwadi+sorgum(jawar)  \n",
              "2015-01-01  kurdwadi+sorgum(jawar)  "
            ]
          },
          "metadata": {
            "tags": []
          },
          "execution_count": 64
        }
      ]
    },
    {
      "metadata": {
        "id": "ignqg9XPHThl",
        "colab_type": "code",
        "colab": {}
      },
      "cell_type": "code",
      "source": [
        "def comparison(apmc,commodity):\n",
        "  apmc_comm=str(apmc)+\"+\"+str(commodity)\n",
        "  new_data=deseasonalize_data[deseasonalize_data['APMC_commodity']==apmc_comm]\n",
        "  df1_msp=df1[df1['commodity']=='bajri']\n",
        "  df1_msp=df1_msp[['year','msprice']]\n",
        "  xaxis = new_data.index\n",
        "  plt.figure(figsize=(10, 6))\n",
        "  plt.plot(new_data.index, new_data['modal_price'])\n",
        "  plt.plot(new_data.index, new_data['deseasonalized_price'])\n",
        "  plt.plot(df1_msp['year'], df1_msp['msprice'], color = 'k')\n",
        "  ax = plt.gca()\n",
        "  plt.legend(['Actual price', 'Deseasonalized', 'MSP'])\n",
        "  plt.show()"
      ],
      "execution_count": 0,
      "outputs": []
    },
    {
      "metadata": {
        "id": "xYQxSNdx4gXJ",
        "colab_type": "code",
        "colab": {
          "base_uri": "https://localhost:8080/",
          "height": 411
        },
        "outputId": "64847db7-2bef-4709-c035-53f910e2103e"
      },
      "cell_type": "code",
      "source": [
        "apmc=input('Enter the APMC name:')\n",
        "commodity=input('Enter the Commodity in the above APMC:')\n",
        "comparison(apmc,commodity)"
      ],
      "execution_count": 66,
      "outputs": [
        {
          "output_type": "stream",
          "text": [
            "Enter the APMC name:kurdwadi\n",
            "Enter the Commodity in the above APMC:sorgum(jawar)\n"
          ],
          "name": "stdout"
        },
        {
          "output_type": "display_data",
          "data": {
            "image/png": "[encoded data removed]",
            "text/plain": [
              "<Figure size 720x432 with 1 Axes>"
            ]
          },
          "metadata": {
            "tags": []
          }
        }
      ]
    },
    {
      "metadata": {
        "id": "pS3Pk1nCHN3L",
        "colab_type": "code",
        "colab": {
          "base_uri": "https://localhost:8080/",
          "height": 243
        },
        "outputId": "745281fa-4d31-482e-a43a-9e2879d6cf5f"
      },
      "cell_type": "code",
      "source": [
        "df2.head()"
      ],
      "execution_count": 67,
      "outputs": [
        {
          "output_type": "execute_result",
          "data": {
            "text/html": [
              "<div>\n",
              "<style scoped>\n",
              "    .dataframe tbody tr th:only-of-type {\n",
              "        vertical-align: middle;\n",
              "    }\n",
              "\n",
              "    .dataframe tbody tr th {\n",
              "        vertical-align: top;\n",
              "    }\n",
              "\n",
              "    .dataframe thead th {\n",
              "        text-align: right;\n",
              "    }\n",
              "</style>\n",
              "<table border=\"1\" class=\"dataframe\">\n",
              "  <thead>\n",
              "    <tr style=\"text-align: right;\">\n",
              "      <th></th>\n",
              "      <th>APMC</th>\n",
              "      <th>Commodity</th>\n",
              "      <th>Year</th>\n",
              "      <th>Month</th>\n",
              "      <th>arrivals_in_qtl</th>\n",
              "      <th>min_price</th>\n",
              "      <th>max_price</th>\n",
              "      <th>modal_price</th>\n",
              "      <th>date</th>\n",
              "      <th>district_name</th>\n",
              "      <th>outlier_det</th>\n",
              "      <th>APMC_commodity</th>\n",
              "    </tr>\n",
              "  </thead>\n",
              "  <tbody>\n",
              "    <tr>\n",
              "      <th>54791</th>\n",
              "      <td>kurdwadi</td>\n",
              "      <td>sorgum(jawar)</td>\n",
              "      <td>2014</td>\n",
              "      <td>September</td>\n",
              "      <td>454</td>\n",
              "      <td>1353</td>\n",
              "      <td>2610</td>\n",
              "      <td>1981</td>\n",
              "      <td>2014-09-01</td>\n",
              "      <td>Solapur</td>\n",
              "      <td>False</td>\n",
              "      <td>kurdwadi+sorgum(jawar)</td>\n",
              "    </tr>\n",
              "    <tr>\n",
              "      <th>50564</th>\n",
              "      <td>satara</td>\n",
              "      <td>ladies finger</td>\n",
              "      <td>2014</td>\n",
              "      <td>September</td>\n",
              "      <td>128</td>\n",
              "      <td>2435</td>\n",
              "      <td>3261</td>\n",
              "      <td>2848</td>\n",
              "      <td>2014-09-01</td>\n",
              "      <td>Satara</td>\n",
              "      <td>False</td>\n",
              "      <td>satara+ladies finger</td>\n",
              "    </tr>\n",
              "    <tr>\n",
              "      <th>50561</th>\n",
              "      <td>satara</td>\n",
              "      <td>potato</td>\n",
              "      <td>2014</td>\n",
              "      <td>September</td>\n",
              "      <td>2988</td>\n",
              "      <td>2175</td>\n",
              "      <td>2488</td>\n",
              "      <td>2331</td>\n",
              "      <td>2014-09-01</td>\n",
              "      <td>Satara</td>\n",
              "      <td>False</td>\n",
              "      <td>satara+potato</td>\n",
              "    </tr>\n",
              "    <tr>\n",
              "      <th>50558</th>\n",
              "      <td>satara</td>\n",
              "      <td>ginger (fresh)</td>\n",
              "      <td>2014</td>\n",
              "      <td>September</td>\n",
              "      <td>199</td>\n",
              "      <td>3438</td>\n",
              "      <td>4813</td>\n",
              "      <td>4125</td>\n",
              "      <td>2014-09-01</td>\n",
              "      <td>Satara</td>\n",
              "      <td>False</td>\n",
              "      <td>satara+ginger (fresh)</td>\n",
              "    </tr>\n",
              "    <tr>\n",
              "      <th>50556</th>\n",
              "      <td>satara</td>\n",
              "      <td>ground nut pods (dry)</td>\n",
              "      <td>2014</td>\n",
              "      <td>September</td>\n",
              "      <td>1</td>\n",
              "      <td>3000</td>\n",
              "      <td>4000</td>\n",
              "      <td>3500</td>\n",
              "      <td>2014-09-01</td>\n",
              "      <td>Satara</td>\n",
              "      <td>False</td>\n",
              "      <td>satara+ground nut pods (dry)</td>\n",
              "    </tr>\n",
              "  </tbody>\n",
              "</table>\n",
              "</div>"
            ],
            "text/plain": [
              "           APMC              Commodity  Year      Month  arrivals_in_qtl  \\\n",
              "54791  kurdwadi          sorgum(jawar)  2014  September              454   \n",
              "50564    satara          ladies finger  2014  September              128   \n",
              "50561    satara                 potato  2014  September             2988   \n",
              "50558    satara         ginger (fresh)  2014  September              199   \n",
              "50556    satara  ground nut pods (dry)  2014  September                1   \n",
              "\n",
              "       min_price  max_price  modal_price       date district_name  \\\n",
              "54791       1353       2610         1981 2014-09-01       Solapur   \n",
              "50564       2435       3261         2848 2014-09-01        Satara   \n",
              "50561       2175       2488         2331 2014-09-01        Satara   \n",
              "50558       3438       4813         4125 2014-09-01        Satara   \n",
              "50556       3000       4000         3500 2014-09-01        Satara   \n",
              "\n",
              "       outlier_det                APMC_commodity  \n",
              "54791        False        kurdwadi+sorgum(jawar)  \n",
              "50564        False          satara+ladies finger  \n",
              "50561        False                 satara+potato  \n",
              "50558        False         satara+ginger (fresh)  \n",
              "50556        False  satara+ground nut pods (dry)  "
            ]
          },
          "metadata": {
            "tags": []
          },
          "execution_count": 67
        }
      ]
    },
    {
      "metadata": {
        "id": "a0-oewvZUPc-",
        "colab_type": "code",
        "colab": {}
      },
      "cell_type": "code",
      "source": [
        "fluct_data=df2[['APMC','Commodity','Year','Month','min_price','max_price','APMC_commodity']]"
      ],
      "execution_count": 0,
      "outputs": []
    },
    {
      "metadata": {
        "id": "2mTSKvVkR8rn",
        "colab_type": "code",
        "colab": {
          "base_uri": "https://localhost:8080/",
          "height": 206
        },
        "outputId": "c08bdf0a-d666-4701-96e8-4c96c9d6da0a"
      },
      "cell_type": "code",
      "source": [
        "fluct_data.head()"
      ],
      "execution_count": 69,
      "outputs": [
        {
          "output_type": "execute_result",
          "data": {
            "text/html": [
              "<div>\n",
              "<style scoped>\n",
              "    .dataframe tbody tr th:only-of-type {\n",
              "        vertical-align: middle;\n",
              "    }\n",
              "\n",
              "    .dataframe tbody tr th {\n",
              "        vertical-align: top;\n",
              "    }\n",
              "\n",
              "    .dataframe thead th {\n",
              "        text-align: right;\n",
              "    }\n",
              "</style>\n",
              "<table border=\"1\" class=\"dataframe\">\n",
              "  <thead>\n",
              "    <tr style=\"text-align: right;\">\n",
              "      <th></th>\n",
              "      <th>APMC</th>\n",
              "      <th>Commodity</th>\n",
              "      <th>Year</th>\n",
              "      <th>Month</th>\n",
              "      <th>min_price</th>\n",
              "      <th>max_price</th>\n",
              "      <th>APMC_commodity</th>\n",
              "    </tr>\n",
              "  </thead>\n",
              "  <tbody>\n",
              "    <tr>\n",
              "      <th>54791</th>\n",
              "      <td>kurdwadi</td>\n",
              "      <td>sorgum(jawar)</td>\n",
              "      <td>2014</td>\n",
              "      <td>September</td>\n",
              "      <td>1353</td>\n",
              "      <td>2610</td>\n",
              "      <td>kurdwadi+sorgum(jawar)</td>\n",
              "    </tr>\n",
              "    <tr>\n",
              "      <th>50564</th>\n",
              "      <td>satara</td>\n",
              "      <td>ladies finger</td>\n",
              "      <td>2014</td>\n",
              "      <td>September</td>\n",
              "      <td>2435</td>\n",
              "      <td>3261</td>\n",
              "      <td>satara+ladies finger</td>\n",
              "    </tr>\n",
              "    <tr>\n",
              "      <th>50561</th>\n",
              "      <td>satara</td>\n",
              "      <td>potato</td>\n",
              "      <td>2014</td>\n",
              "      <td>September</td>\n",
              "      <td>2175</td>\n",
              "      <td>2488</td>\n",
              "      <td>satara+potato</td>\n",
              "    </tr>\n",
              "    <tr>\n",
              "      <th>50558</th>\n",
              "      <td>satara</td>\n",
              "      <td>ginger (fresh)</td>\n",
              "      <td>2014</td>\n",
              "      <td>September</td>\n",
              "      <td>3438</td>\n",
              "      <td>4813</td>\n",
              "      <td>satara+ginger (fresh)</td>\n",
              "    </tr>\n",
              "    <tr>\n",
              "      <th>50556</th>\n",
              "      <td>satara</td>\n",
              "      <td>ground nut pods (dry)</td>\n",
              "      <td>2014</td>\n",
              "      <td>September</td>\n",
              "      <td>3000</td>\n",
              "      <td>4000</td>\n",
              "      <td>satara+ground nut pods (dry)</td>\n",
              "    </tr>\n",
              "  </tbody>\n",
              "</table>\n",
              "</div>"
            ],
            "text/plain": [
              "           APMC              Commodity  Year      Month  min_price  max_price  \\\n",
              "54791  kurdwadi          sorgum(jawar)  2014  September       1353       2610   \n",
              "50564    satara          ladies finger  2014  September       2435       3261   \n",
              "50561    satara                 potato  2014  September       2175       2488   \n",
              "50558    satara         ginger (fresh)  2014  September       3438       4813   \n",
              "50556    satara  ground nut pods (dry)  2014  September       3000       4000   \n",
              "\n",
              "                     APMC_commodity  \n",
              "54791        kurdwadi+sorgum(jawar)  \n",
              "50564          satara+ladies finger  \n",
              "50561                 satara+potato  \n",
              "50558         satara+ginger (fresh)  \n",
              "50556  satara+ground nut pods (dry)  "
            ]
          },
          "metadata": {
            "tags": []
          },
          "execution_count": 69
        }
      ]
    },
    {
      "metadata": {
        "id": "ZZRT6GDPR_iN",
        "colab_type": "code",
        "colab": {
          "base_uri": "https://localhost:8080/",
          "height": 149
        },
        "outputId": "3383adb4-cd08-48bc-c7e1-9e883dd1d04a"
      },
      "cell_type": "code",
      "source": [
        "fluct_data['fluct_price']=fluct_data['max_price']-fluct_data['min_price']\n",
        "fluctuation=fluct_data.groupby(['Commodity','APMC','Year']).max()\n",
        "#fluctuation=fluctuation.drop(['APMC_commodity'])\n",
        "fluctuation['fluct_price']=fluctuation[fluctuation['fluct_price']>0]"
      ],
      "execution_count": 72,
      "outputs": [
        {
          "output_type": "stream",
          "text": [
            "/usr/local/lib/python3.6/dist-packages/ipykernel_launcher.py:1: SettingWithCopyWarning: \n",
            "A value is trying to be set on a copy of a slice from a DataFrame.\n",
            "Try using .loc[row_indexer,col_indexer] = value instead\n",
            "\n",
            "See the caveats in the documentation: http://pandas.pydata.org/pandas-docs/stable/indexing.html#indexing-view-versus-copy\n",
            "  \"\"\"Entry point for launching an IPython kernel.\n"
          ],
          "name": "stderr"
        }
      ]
    },
    {
      "metadata": {
        "id": "Fi1NxRiHYTOs",
        "colab_type": "code",
        "colab": {}
      },
      "cell_type": "code",
      "source": [
        "fluctuation.to_csv('fluctuation_data.csv')\n",
        "!cp fluctuation_data.csv drive/My\\ Drive/"
      ],
      "execution_count": 0,
      "outputs": []
    },
    {
      "metadata": {
        "id": "pSZLT7wsTSW-",
        "colab_type": "code",
        "colab": {}
      },
      "cell_type": "code",
      "source": [
        ""
      ],
      "execution_count": 0,
      "outputs": []
    }
  ]
}